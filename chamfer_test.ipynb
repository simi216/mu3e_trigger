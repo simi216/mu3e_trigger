{
 "cells": [
  {
   "cell_type": "code",
   "execution_count": 6,
   "id": "7ccb94ff",
   "metadata": {},
   "outputs": [],
   "source": [
    "import tensorflow as tf\n",
    "from keras.losses import Loss\n",
    "\n",
    "@tf.keras.utils.register_keras_serializable(package=\"Custom\", name=\"ChamferDistanceMasked\")\n",
    "class ChamferDistanceMasked(Loss):\n",
    "    def __init__(self, padding_val=-1.0, name=\"chamfer_distance_masked\"):\n",
    "        super().__init__(name=name)\n",
    "        self.padding_val = padding_val\n",
    "\n",
    "    def call(self, y_true, y_pred):\n",
    "        \"\"\"\n",
    "        y_true: (B, N, D)\n",
    "        y_pred: (B, M, D)\n",
    "        \"\"\"\n",
    "        padding_val = self.padding_val\n",
    "        epsilon = 1e-6  # used for both masking and numerical stability\n",
    "\n",
    "        # Create masks: (B, N) and (B, M)\n",
    "        mask_true = tf.reduce_any(tf.abs(y_true - padding_val) > epsilon, axis=-1)  # (B, N)\n",
    "        mask_pred = tf.reduce_any(tf.abs(y_pred - padding_val) > epsilon, axis=-1)  # (B, M)\n",
    "\n",
    "        # Compute pairwise squared distances: (B, N, M)\n",
    "        y_true_exp = tf.expand_dims(y_true, axis=2)  # (B, N, 1, D)\n",
    "        y_pred_exp = tf.expand_dims(y_pred, axis=1)  # (B, 1, M, D)\n",
    "        diff = y_true_exp - y_pred_exp\n",
    "        dist = tf.reduce_sum(tf.square(diff), axis=-1)  # (B, N, M)\n",
    "\n",
    "        # Minimum distances\n",
    "        min_true_to_pred = tf.reduce_min(dist, axis=2)  # (B, N)\n",
    "        min_pred_to_true = tf.reduce_min(dist, axis=1)  # (B, M)\n",
    "\n",
    "        # Mask invalid entries\n",
    "        valid_min_true_to_pred = tf.where(mask_true, min_true_to_pred, tf.zeros_like(min_true_to_pred))\n",
    "        valid_min_pred_to_true = tf.where(mask_pred, min_pred_to_true, tf.zeros_like(min_pred_to_true))\n",
    "\n",
    "        # Count valid points\n",
    "        count_true = tf.reduce_sum(tf.cast(mask_true, tf.float32))\n",
    "        count_pred = tf.reduce_sum(tf.cast(mask_pred, tf.float32))\n",
    "\n",
    "        # Mean distances with guard against divide-by-zero\n",
    "        mean_true_to_pred = tf.where(\n",
    "            count_true > 0, tf.reduce_sum(valid_min_true_to_pred) / count_true, 0.0\n",
    "        )\n",
    "        mean_pred_to_true = tf.where(\n",
    "            count_pred > 0, tf.reduce_sum(valid_min_pred_to_true) / count_pred, 0.0\n",
    "        )\n",
    "\n",
    "        return mean_true_to_pred + mean_pred_to_true\n"
   ]
  },
  {
   "cell_type": "code",
   "execution_count": 7,
   "id": "7c30ec0a",
   "metadata": {},
   "outputs": [
    {
     "name": "stdout",
     "output_type": "stream",
     "text": [
      "Chamfer loss: 0.020000005\n"
     ]
    }
   ],
   "source": [
    "y_true = tf.constant([[[-1.0, -1.0],[0.0, 0.0], [1.0, 1.0]]])  # (1, 3, 2)\n",
    "y_pred = tf.constant([[[1.0, 1.1], [0.0, 0.1], [-1.0, -1.0]]])  # (1, 3, 2)\n",
    "loss_fn = ChamferDistanceMasked(padding_val=-1.0)\n",
    "loss = loss_fn(y_true, y_pred)\n",
    "print(\"Chamfer loss:\", loss.numpy())"
   ]
  },
  {
   "cell_type": "code",
   "execution_count": null,
   "id": "5b5aa000",
   "metadata": {},
   "outputs": [],
   "source": []
  }
 ],
 "metadata": {
  "kernelspec": {
   "display_name": "mu3e_trigger",
   "language": "python",
   "name": "python3"
  },
  "language_info": {
   "codemirror_mode": {
    "name": "ipython",
    "version": 3
   },
   "file_extension": ".py",
   "mimetype": "text/x-python",
   "name": "python",
   "nbconvert_exporter": "python",
   "pygments_lexer": "ipython3",
   "version": "3.10.18"
  }
 },
 "nbformat": 4,
 "nbformat_minor": 5
}
